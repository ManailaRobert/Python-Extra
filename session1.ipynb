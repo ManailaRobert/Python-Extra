{
 "cells": [
  {
   "cell_type": "markdown",
   "metadata": {},
   "source": [
    "Avem o populatie de agenti. fiecare agent are o preferinta \n",
    "asupra procentului de vecini care sa fie de acelasi tip. \n",
    "daca un agent este inconjurat de mai multi vecini de tipuri \n",
    "diferite decat poate \"tolera\", agentul se muta intr-o zona in \n",
    "care nu se intampla acest lucru. \n",
    "\n",
    "Pentru a evolua sistemul, la fiecare iteratie, alegem agenti la \n",
    "intamplare si stabilim daca acestia se muta sau nu.\n",
    "\n",
    "1. Definim un agent\n",
    "2. Definim un spatiu (mediu) unde se gasesc agentii\n",
    "3. Mecanism pentru a determina cati vecini are un agent\n",
    "4. Mecanism prin care sa determinam daca preferintele unui agent sunt incalcate\n",
    "5. Tipurile de agenti \n",
    "6. Lista de agenti \n",
    "7. Stabilim pentru fiecare agent ce preferinta are\n",
    "8. Un mecanism prin care sa determinam unde se pot muta \n",
    "9. Reguli pentru a defini preferintele?\n",
    "10. Un mecanism pentru a alege la intamplare agentii in timpul fiecarei iteratii \n",
    "a.i. sa nu alegem de mai multe ori acelasi agent\n",
    "11. Mecanism pentru a rula simularea pentru mai multe iteratii\n",
    "12. Sa vizualizam simularea (pas cu pas sau pentru fiecare iteratie)\n",
    "\n",
    "### ---- Pasul 1 ---- ###\n",
    "Ce date trebuie sa tinem minte pentru un agent?\n",
    "- id\n",
    "- preferintele\n",
    "- coordonate (locatie)\n",
    "- tipul\n",
    "\n",
    "Cum reprezentam in memorie un agent?\n",
    "\n",
    "- O lista cu toate informatiile \n",
    "- Un obiect \n",
    "- Dictionar (JSON)\n",
    "\n",
    "### --- Pasul 2 ---- ###\n",
    "Definim spatiul = o lista de liste (o matrice)\n",
    "\n",
    "### --- Pasul 3 ---- ### \n",
    "Definim o metoda sa calculam numarul de vecini (get_neighbor_coords())"
   ]
  },
  {
   "cell_type": "code",
   "execution_count": 1,
   "metadata": {},
   "outputs": [],
   "source": [
    "# define agent types\n",
    "agent_types = [\"type1\", \"type2\"]\n",
    "\n",
    "# create an agent as an empty list\n",
    "agent = []\n",
    "\n",
    "# assign an id to our agent, 1\n",
    "agent.append(1)\n",
    "\n",
    "# assign a type \n",
    "agent.append(agent_types[0])\n",
    "\n",
    "# assign coordinates \n",
    "coord = {\n",
    "    \"row\": 10,\n",
    "    \"col\": 20\n",
    " } # randul si coloana din spatiul 2D\n",
    "agent.append(coord)\n",
    "\n",
    "# assign preferences\n",
    "preferences = {\n",
    "    \"type1\": 0.9,\n",
    "    \"type2\": 0.1\n",
    "}\n",
    "agent.append(preferences)\n",
    "\n",
    "agent\n",
    "\n",
    "def create_agent(agent_id, agent_type, coords, preferences):\n",
    "    agent = [agent_id, agent_type, coords, preferences]\n",
    "    return agent "
   ]
  },
  {
   "cell_type": "code",
   "execution_count": 2,
   "metadata": {},
   "outputs": [
    {
     "data": {
      "text/plain": [
       "{'row': 10, 'col': 20}"
      ]
     },
     "execution_count": 2,
     "metadata": {},
     "output_type": "execute_result"
    }
   ],
   "source": [
    "agent[2] "
   ]
  },
  {
   "cell_type": "code",
   "execution_count": 3,
   "metadata": {},
   "outputs": [
    {
     "data": {
      "text/plain": [
       "[1, 'type1', [20, 14], {'type1': 0.9, 'type2': 0.1}]"
      ]
     },
     "execution_count": 3,
     "metadata": {},
     "output_type": "execute_result"
    }
   ],
   "source": [
    "agent[2] = [20, 14]\n",
    "agent"
   ]
  },
  {
   "cell_type": "code",
   "execution_count": 4,
   "metadata": {},
   "outputs": [],
   "source": [
    "# Define environment\n",
    "def create_environment(n_rows=15, n_cols=15):\n",
    "    environment = []\n",
    "    for i in range(n_rows):\n",
    "        row = []\n",
    "        for j in range(n_cols):\n",
    "            row.append(-1)\n",
    "        environment.append(row)\n",
    "    return environment"
   ]
  },
  {
   "cell_type": "code",
   "execution_count": 5,
   "metadata": {},
   "outputs": [
    {
     "data": {
      "text/plain": [
       "[[-1, -1, -1, -1, -1, -1, -1, -1, -1, -1],\n",
       " [-1, -1, -1, -1, -1, -1, -1, -1, -1, -1],\n",
       " [-1, -1, -1, -1, -1, -1, -1, -1, -1, -1],\n",
       " [-1, -1, -1, -1, -1, -1, -1, -1, -1, -1],\n",
       " [-1, -1, -1, -1, -1, -1, -1, -1, -1, -1],\n",
       " [-1, -1, -1, -1, -1, -1, -1, -1, -1, -1],\n",
       " [-1, -1, -1, -1, -1, -1, -1, -1, -1, -1],\n",
       " [-1, -1, -1, -1, -1, -1, -1, -1, -1, -1],\n",
       " [-1, -1, -1, -1, -1, -1, -1, -1, -1, -1],\n",
       " [-1, -1, -1, -1, -1, -1, -1, -1, -1, -1]]"
      ]
     },
     "execution_count": 5,
     "metadata": {},
     "output_type": "execute_result"
    }
   ],
   "source": [
    "environment1 = create_environment(10, 10)\n",
    "environment1"
   ]
  },
  {
   "cell_type": "code",
   "execution_count": 6,
   "metadata": {},
   "outputs": [
    {
     "data": {
      "text/plain": [
       "[[-1, -1, -1, -1, -1, -1, -1, -1, -1, -1, -1, -1, -1, -1, -1],\n",
       " [-1, -1, -1, -1, -1, -1, -1, -1, -1, -1, -1, -1, -1, -1, -1],\n",
       " [-1, -1, -1, -1, -1, -1, -1, -1, -1, -1, -1, -1, -1, -1, -1],\n",
       " [-1, -1, -1, -1, -1, -1, -1, -1, -1, -1, -1, -1, -1, -1, -1],\n",
       " [-1, -1, -1, -1, -1, -1, -1, -1, -1, -1, -1, -1, -1, -1, -1],\n",
       " [-1, -1, -1, -1, -1, -1, -1, -1, -1, -1, -1, -1, -1, -1, -1],\n",
       " [-1, -1, -1, -1, -1, -1, -1, -1, -1, -1, -1, -1, -1, -1, -1],\n",
       " [-1, -1, -1, -1, -1, -1, -1, -1, -1, -1, -1, -1, -1, -1, -1],\n",
       " [-1, -1, -1, -1, -1, -1, -1, -1, -1, -1, -1, -1, -1, -1, -1],\n",
       " [-1, -1, -1, -1, -1, -1, -1, -1, -1, -1, -1, -1, -1, -1, -1],\n",
       " [-1, -1, -1, -1, -1, -1, -1, -1, -1, -1, -1, -1, -1, -1, -1],\n",
       " [-1, -1, -1, -1, -1, -1, -1, -1, -1, -1, -1, -1, -1, -1, -1],\n",
       " [-1, -1, -1, -1, -1, -1, -1, -1, -1, -1, -1, -1, -1, -1, -1],\n",
       " [-1, -1, -1, -1, -1, -1, -1, -1, -1, -1, -1, -1, -1, -1, -1],\n",
       " [-1, -1, -1, -1, -1, -1, -1, -1, -1, -1, -1, -1, -1, -1, -1]]"
      ]
     },
     "execution_count": 6,
     "metadata": {},
     "output_type": "execute_result"
    }
   ],
   "source": [
    "environment2 = create_environment()\n",
    "environment2"
   ]
  },
  {
   "cell_type": "code",
   "execution_count": 7,
   "metadata": {},
   "outputs": [
    {
     "data": {
      "text/plain": [
       "[[-1, -1, -1, -1, -1, -1, -1, -1, -1, -1, -1, -1, -1, -1, -1],\n",
       " [-1, -1, -1, -1, -1, -1, -1, -1, -1, -1, -1, -1, -1, -1, -1],\n",
       " [-1, -1, -1, -1, -1, -1, -1, -1, -1, -1, -1, -1, -1, -1, -1],\n",
       " [-1, -1, -1, -1, -1, -1, -1, -1, -1, -1, -1, -1, -1, -1, -1],\n",
       " [-1, -1, -1, -1, -1, -1, -1, -1, -1, -1, -1, -1, -1, -1, -1],\n",
       " [-1, -1, -1, -1, -1, -1, -1, -1, -1, -1, -1, -1, -1, -1, -1],\n",
       " [-1, -1, -1, -1, -1, -1, -1, -1, -1, -1, -1, -1, -1, -1, -1],\n",
       " [-1, -1, -1, -1, -1, -1, -1, -1, -1, -1, -1, -1, -1, -1, -1],\n",
       " [-1, -1, -1, -1, -1, -1, -1, -1, -1, -1, -1, -1, -1, -1, -1],\n",
       " [-1, -1, -1, -1, -1, -1, -1, -1, -1, -1, -1, -1, -1, -1, -1]]"
      ]
     },
     "execution_count": 7,
     "metadata": {},
     "output_type": "execute_result"
    }
   ],
   "source": [
    "environment3 = create_environment(10)\n",
    "environment3"
   ]
  },
  {
   "cell_type": "code",
   "execution_count": 8,
   "metadata": {},
   "outputs": [],
   "source": [
    "def get_neighbor_coords(row, col, n_rows, n_cols):\n",
    "    # define matrix to specify neighbor coordinates\n",
    "    coords = [\n",
    "        [-1, -1],\n",
    "        [0, -1],\n",
    "        [1, -1],\n",
    "        [-1, 0],\n",
    "        [1, 0],\n",
    "        [-1, 1],\n",
    "        [0, 1],\n",
    "        [1, 1]\n",
    "    ]\n",
    "\n",
    "    # get coordinates for every neighbor, starting with (x, y)\n",
    "    neighbor_coords = []\n",
    "    for coord in coords:\n",
    "        neighbor = {\n",
    "            \"row\": row + coord[0],\n",
    "            \"col\": col + coord[1]\n",
    "        }\n",
    "        # eliminate invalid neighbors\n",
    "        if neighbor[\"col\"] >= 0 and neighbor[\"col\"] < n_cols and neighbor[\"row\"] >= 0 and neighbor[\"row\"] < n_rows:\n",
    "            neighbor_coords.append(neighbor)\n",
    "    return neighbor_coords"
   ]
  },
  {
   "cell_type": "code",
   "execution_count": 9,
   "metadata": {},
   "outputs": [
    {
     "data": {
      "text/plain": [
       "[{'row': 4, 'col': 4},\n",
       " {'row': 5, 'col': 4},\n",
       " {'row': 6, 'col': 4},\n",
       " {'row': 4, 'col': 5},\n",
       " {'row': 6, 'col': 5},\n",
       " {'row': 4, 'col': 6},\n",
       " {'row': 5, 'col': 6},\n",
       " {'row': 6, 'col': 6}]"
      ]
     },
     "execution_count": 9,
     "metadata": {},
     "output_type": "execute_result"
    }
   ],
   "source": [
    "x_max = 10\n",
    "y_max = 15\n",
    "get_neighbor_coords(5, 5, x_max, y_max)"
   ]
  },
  {
   "cell_type": "code",
   "execution_count": 10,
   "metadata": {},
   "outputs": [
    {
     "data": {
      "text/plain": [
       "[[1, 0, -1, 1, -1, -1, 1, 1, -1, 0, -1, -1, 0, 1, -1, -1, -1, 0, 0, 1],\n",
       " [0, 1, -1, -1, 0, -1, 0, 0, 1, 0, 0, 0, 1, -1, -1, -1, 1, 1, 1, 0],\n",
       " [1, 1, -1, -1, 0, 0, -1, -1, 0, -1, 1, 0, -1, -1, 1, -1, -1, 0, -1, -1],\n",
       " [-1, -1, -1, 0, -1, 1, -1, -1, -1, 0, -1, 1, 1, 1, -1, 0, -1, -1, -1, 1],\n",
       " [0, -1, 1, -1, 1, 1, -1, 1, 1, -1, -1, -1, 0, 0, -1, -1, -1, 1, -1, 0],\n",
       " [-1, -1, 0, -1, 1, -1, 1, 0, -1, -1, 1, 1, 1, 0, 1, 0, -1, -1, 1, -1],\n",
       " [0, -1, -1, -1, 0, 0, 1, 1, 1, -1, 0, -1, -1, -1, 0, -1, 0, 0, -1, 0],\n",
       " [0, 0, -1, 0, 1, -1, 0, -1, 0, 0, -1, 0, -1, 1, 0, 0, -1, 1, 1, -1],\n",
       " [-1, -1, 1, 0, -1, 0, -1, -1, 1, 0, -1, 1, 1, -1, -1, -1, 0, -1, -1, 0],\n",
       " [-1, -1, 1, -1, -1, 0, 0, -1, 1, -1, -1, 0, -1, 0, -1, -1, -1, 0, 1, 1],\n",
       " [-1, 0, -1, -1, 1, -1, 0, -1, 0, -1, -1, -1, -1, -1, -1, -1, 1, 0, 0, 0],\n",
       " [1, -1, -1, -1, 1, 0, 1, -1, -1, 0, 0, -1, 1, 1, 1, 1, 0, -1, 1, -1],\n",
       " [0, -1, 0, -1, -1, -1, -1, -1, -1, 1, -1, 1, -1, 0, -1, -1, 0, 1, -1, -1],\n",
       " [1, 1, 1, 1, -1, -1, 0, -1, 1, 1, 1, -1, 0, -1, 1, -1, 0, -1, -1, -1],\n",
       " [-1, 1, 0, -1, -1, 0, -1, -1, -1, -1, 0, 1, -1, -1, 1, 0, 0, -1, 1, -1],\n",
       " [-1, 0, -1, 1, 1, -1, 1, -1, -1, 0, 0, 1, -1, -1, 0, -1, 1, -1, -1, 1],\n",
       " [1, -1, 0, 0, 1, 0, -1, -1, 0, 0, -1, -1, 0, -1, 1, 1, 1, -1, -1, -1],\n",
       " [-1, 1, 1, -1, -1, -1, 0, -1, -1, 0, -1, -1, 0, -1, 0, 0, 1, -1, 1, 0],\n",
       " [-1, -1, 1, 1, 1, 1, 1, -1, 1, -1, 1, -1, 0, -1, 0, 1, -1, -1, 0, 0],\n",
       " [-1, 1, -1, 0, -1, -1, -1, -1, -1, 0, 0, 1, -1, 1, -1, -1, 0, 0, 1, 0]]"
      ]
     },
     "execution_count": 10,
     "metadata": {},
     "output_type": "execute_result"
    }
   ],
   "source": [
    "import random \n",
    "\n",
    "n_rows = 20\n",
    "n_cols = 20\n",
    "enviroment = create_environment(n_rows=n_rows, n_cols=n_cols)\n",
    "\n",
    "n_agents = int(0.7 * n_rows * n_cols)\n",
    "\n",
    "agents = []\n",
    "for i in range(n_agents):\n",
    "    location = {\n",
    "        \"row\": random.randint(0, n_rows-1),\n",
    "        \"col\": random.randint(0, n_cols-1)\n",
    "    }\n",
    "    agent_type_index = random.randint(0, 1)\n",
    "\n",
    "    # preferences sets the maximum % of neighbors of a given type\n",
    "    if agent_type_index == 0:\n",
    "        preferences = {\"type1\": 0.25, \"type2\": 0.75}\n",
    "    else:\n",
    "        preferences = {\"type1\": 0.1, \"type2\": 0.9}\n",
    "\n",
    "    agent = create_agent(i, agent_types[agent_type_index], location, preferences)\n",
    "    enviroment[location[\"row\"]][location[\"col\"]] = agent_type_index\n",
    "    agents.append(agent)\n",
    "\n",
    "enviroment"
   ]
  },
  {
   "cell_type": "code",
   "execution_count": 11,
   "metadata": {},
   "outputs": [
    {
     "ename": "ModuleNotFoundError",
     "evalue": "No module named 'matplotlib'",
     "output_type": "error",
     "traceback": [
      "\u001b[1;31m---------------------------------------------------------------------------\u001b[0m",
      "\u001b[1;31mModuleNotFoundError\u001b[0m                       Traceback (most recent call last)",
      "\u001b[1;32me:\\Test_Git\\Python\\session1.ipynb Cell 12\u001b[0m line \u001b[0;36m1\n\u001b[1;32m----> <a href='vscode-notebook-cell:/e%3A/Test_Git/Python/session1.ipynb#X14sZmlsZQ%3D%3D?line=0'>1</a>\u001b[0m \u001b[39mimport\u001b[39;00m \u001b[39mmatplotlib\u001b[39;00m\u001b[39m.\u001b[39;00m\u001b[39mpyplot\u001b[39;00m \u001b[39mas\u001b[39;00m \u001b[39mplt\u001b[39;00m \n\u001b[0;32m      <a href='vscode-notebook-cell:/e%3A/Test_Git/Python/session1.ipynb#X14sZmlsZQ%3D%3D?line=2'>3</a>\u001b[0m _ \u001b[39m=\u001b[39m plt\u001b[39m.\u001b[39mfigure()\n\u001b[0;32m      <a href='vscode-notebook-cell:/e%3A/Test_Git/Python/session1.ipynb#X14sZmlsZQ%3D%3D?line=3'>4</a>\u001b[0m plt\u001b[39m.\u001b[39mimshow(enviroment)\n",
      "\u001b[1;31mModuleNotFoundError\u001b[0m: No module named 'matplotlib'"
     ]
    }
   ],
   "source": [
    "# import matplotlib.pyplot as plt \n",
    "\n",
    "# _ = plt.figure()\n",
    "# plt.imshow(enviroment)\n",
    "# plt.show()"
   ]
  },
  {
   "cell_type": "code",
   "execution_count": null,
   "metadata": {},
   "outputs": [
    {
     "name": "stdout",
     "output_type": "stream",
     "text": [
      "Failed to meet preferences. Agent will move.\n"
     ]
    }
   ],
   "source": [
    "agent = agents[0]\n",
    "agent_neighbors = get_neighbor_coords(agent[2][\"row\"], agent[2][\"col\"], n_rows=n_rows, n_cols=n_cols)\n",
    "\n",
    "neighbor_types = {\n",
    "    agent_types[0]: 0,\n",
    "    agent_types[1]: 0\n",
    "}\n",
    "\n",
    "# TODO: CHECK IF neighbor_types is computed correctly\n",
    "for neighbor in agent_neighbors:\n",
    "    # verific daca exista un agent la coord primului vecin\n",
    "    if enviroment[neighbor[\"row\"]][neighbor[\"col\"]] != -1:\n",
    "        # caut agentul care se gaseste la coord neigbor\n",
    "        for current_agent in agents:\n",
    "            # extrag tipul vecinului de la locatia respectiva\n",
    "            if current_agent[2][\"row\"] == neighbor[\"row\"] and current_agent[2][\"col\"] == neighbor[\"col\"]:\n",
    "                neighbor_type = current_agent[1]\n",
    "                \n",
    "                # cresc numarul de vecini de acelasi tip cu vecinul curent cu 1\n",
    "                neighbor_types[neighbor_type] = neighbor_types[neighbor_type] + 1\n",
    "\n",
    "type1_percentage = neighbor_types[\"type1\"] / len(agent_neighbors)\n",
    "\n",
    "if type1_percentage > agent[3][\"type1\"]:\n",
    "    print(\"Failed to meet preferences. Agent will move.\")\n",
    "else:\n",
    "    print(\"Preferences met. Agent does not move.\")\n"
   ]
  },
  {
   "cell_type": "code",
   "execution_count": null,
   "metadata": {},
   "outputs": [
    {
     "data": {
      "text/plain": [
       "[{'row': 0, 'col': 1},\n",
       " {'row': 1, 'col': 1},\n",
       " {'row': 2, 'col': 1},\n",
       " {'row': 0, 'col': 2},\n",
       " {'row': 2, 'col': 2},\n",
       " {'row': 0, 'col': 3},\n",
       " {'row': 1, 'col': 3},\n",
       " {'row': 2, 'col': 3}]"
      ]
     },
     "execution_count": 36,
     "metadata": {},
     "output_type": "execute_result"
    }
   ],
   "source": [
    "agent_neighbors"
   ]
  },
  {
   "cell_type": "code",
   "execution_count": null,
   "metadata": {},
   "outputs": [],
   "source": []
  }
 ],
 "metadata": {
  "kernelspec": {
   "display_name": "Python 3 (ipykernel)",
   "language": "python",
   "name": "python3"
  },
  "language_info": {
   "codemirror_mode": {
    "name": "ipython",
    "version": 3
   },
   "file_extension": ".py",
   "mimetype": "text/x-python",
   "name": "python",
   "nbconvert_exporter": "python",
   "pygments_lexer": "ipython3",
   "version": "3.12.0"
  }
 },
 "nbformat": 4,
 "nbformat_minor": 2
}
