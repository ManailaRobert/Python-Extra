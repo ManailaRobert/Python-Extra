{
 "cells": [
  {
   "cell_type": "markdown",
   "metadata": {},
   "source": [
    "Avem o populatie de agenti. fiecare agent are o preferinta\n",
    "asupra procentului de vecini care sa fie de acelasi tip,\n",
    "daca un agent este inconjurat de mai multi vecini de tipuri \n",
    "diferite daca poate \"tolera\", agentul se muta intr-o zona \n",
    "in care nu se intampla acest lucru\n",
    "\n",
    "pentru a evolua sistemul, la fiecare iteratie, alegem agenti la intamplare si stabilim daca acestia se muta sau nu\n",
    "\n",
    "\n",
    " 1. Definim un agent\n",
    " 2. Definim un saptiu(mediu) unde se gasesc agentii\n",
    " 3. Mecanism pentru a determina cati vecini are un agent\n",
    " 4. Mecanism prin care sa determinam daca preferintele unui agent sunt incalcate\n",
    " 5. Tipurile de agenti\n",
    " 6. Lista de agenti\n",
    " 7. Stabilim pentru fiecare agent ce preferinta are\n",
    " 8. Un mecanism prin care sa determinam unde se pot muta\n",
    " 9. Reguli pentru a defini preferintele?\n",
    " 10. Un mecanism pentru a alege la intamplare agentii in timpul fiecarei iteratii a.i sa nu alegem de mai multe ori acelasi agent\n",
    " 11. Mecanism pentru a rula simularea pentru mai multe iteratii\n",
    " 12. SA vizualizam simluarea (pas cu pas sau pentru fiecare iteratie)\n",
    "\n",
    "# ---Pasul 1 ---\n",
    " Ce date trebuie sa tinem minte pentru un agent?\n",
    " - id\n",
    " - preferinte\n",
    " - coordonate\n",
    " - tipul\n",
    "\n",
    " Cum reprezentam in memorie un agent?\n",
    " a. O lista cu toate informatiile\n",
    " b. Un obiect\n",
    " c. Dictionar (JSON)\n",
    "\n",
    "_________________\n",
    " ex Initializari\n",
    " .a=10\n",
    " .b=10.1\n",
    " .c=\"Acesta este un string\"\n",
    " .d=True \n",
    " .e= None\n"
   ]
  },
  {
   "cell_type": "code",
   "execution_count": 7,
   "metadata": {},
   "outputs": [
    {
     "data": {
      "text/plain": [
       "[1, 'type1', [10, 20], [0.9, 0.1]]"
      ]
     },
     "execution_count": 7,
     "metadata": {},
     "output_type": "execute_result"
    }
   ],
   "source": [
    "#define agent types\n",
    "agent_types = [\"type1\", \"type2\"]\n",
    "\n",
    "#Create an agent as an empty list\n",
    "agent = [] \n",
    "\n",
    " #assign an id to our agent, 1\n",
    "agent.append(1)\n",
    "\n",
    "#assign a type\n",
    "agent.append(agent_types[0])\n",
    "\n",
    "#assign coordinates\n",
    "coord = [10,20] # randul si coloana din spatiul 2D\n",
    "agent.append(coord)\n",
    "\n",
    "#assign preferences\n",
    "preferences= [0.9, 0.1]\n",
    "agent.append(preferences)\n",
    "\n",
    "agent"
   ]
  },
  {
   "cell_type": "code",
   "execution_count": 8,
   "metadata": {},
   "outputs": [
    {
     "data": {
      "text/plain": [
       "[10, 20]"
      ]
     },
     "execution_count": 8,
     "metadata": {},
     "output_type": "execute_result"
    }
   ],
   "source": [
    "agent[2]"
   ]
  },
  {
   "cell_type": "code",
   "execution_count": 9,
   "metadata": {},
   "outputs": [
    {
     "data": {
      "text/plain": [
       "[1, 'type1', [20, 14], [0.9, 0.1]]"
      ]
     },
     "execution_count": 9,
     "metadata": {},
     "output_type": "execute_result"
    }
   ],
   "source": [
    "agent[2]= [20,14]\n",
    "agent"
   ]
  },
  {
   "cell_type": "code",
   "execution_count": 13,
   "metadata": {},
   "outputs": [],
   "source": [
    "#Define environment\n",
    "def create_environment (x_max =15,y_max=15):\n",
    "    environment = []\n",
    "    for i in range(y_max):\n",
    "        row =[]\n",
    "        for j in range(x_max):\n",
    "            row.append(0)\n",
    "        environment.append(row)\n",
    "    return environment"
   ]
  },
  {
   "cell_type": "code",
   "execution_count": 14,
   "metadata": {},
   "outputs": [
    {
     "data": {
      "text/plain": [
       "[[0, 0, 0, 0, 0, 0, 0, 0, 0, 0],\n",
       " [0, 0, 0, 0, 0, 0, 0, 0, 0, 0],\n",
       " [0, 0, 0, 0, 0, 0, 0, 0, 0, 0],\n",
       " [0, 0, 0, 0, 0, 0, 0, 0, 0, 0],\n",
       " [0, 0, 0, 0, 0, 0, 0, 0, 0, 0],\n",
       " [0, 0, 0, 0, 0, 0, 0, 0, 0, 0],\n",
       " [0, 0, 0, 0, 0, 0, 0, 0, 0, 0],\n",
       " [0, 0, 0, 0, 0, 0, 0, 0, 0, 0],\n",
       " [0, 0, 0, 0, 0, 0, 0, 0, 0, 0],\n",
       " [0, 0, 0, 0, 0, 0, 0, 0, 0, 0]]"
      ]
     },
     "execution_count": 14,
     "metadata": {},
     "output_type": "execute_result"
    }
   ],
   "source": [
    "environment1 = create_environment(10,10)\n",
    "environment1"
   ]
  },
  {
   "cell_type": "code",
   "execution_count": 15,
   "metadata": {},
   "outputs": [
    {
     "data": {
      "text/plain": [
       "[[0, 0, 0, 0, 0, 0, 0, 0, 0, 0, 0, 0, 0, 0, 0],\n",
       " [0, 0, 0, 0, 0, 0, 0, 0, 0, 0, 0, 0, 0, 0, 0],\n",
       " [0, 0, 0, 0, 0, 0, 0, 0, 0, 0, 0, 0, 0, 0, 0],\n",
       " [0, 0, 0, 0, 0, 0, 0, 0, 0, 0, 0, 0, 0, 0, 0],\n",
       " [0, 0, 0, 0, 0, 0, 0, 0, 0, 0, 0, 0, 0, 0, 0],\n",
       " [0, 0, 0, 0, 0, 0, 0, 0, 0, 0, 0, 0, 0, 0, 0],\n",
       " [0, 0, 0, 0, 0, 0, 0, 0, 0, 0, 0, 0, 0, 0, 0],\n",
       " [0, 0, 0, 0, 0, 0, 0, 0, 0, 0, 0, 0, 0, 0, 0],\n",
       " [0, 0, 0, 0, 0, 0, 0, 0, 0, 0, 0, 0, 0, 0, 0],\n",
       " [0, 0, 0, 0, 0, 0, 0, 0, 0, 0, 0, 0, 0, 0, 0],\n",
       " [0, 0, 0, 0, 0, 0, 0, 0, 0, 0, 0, 0, 0, 0, 0],\n",
       " [0, 0, 0, 0, 0, 0, 0, 0, 0, 0, 0, 0, 0, 0, 0],\n",
       " [0, 0, 0, 0, 0, 0, 0, 0, 0, 0, 0, 0, 0, 0, 0],\n",
       " [0, 0, 0, 0, 0, 0, 0, 0, 0, 0, 0, 0, 0, 0, 0],\n",
       " [0, 0, 0, 0, 0, 0, 0, 0, 0, 0, 0, 0, 0, 0, 0]]"
      ]
     },
     "execution_count": 15,
     "metadata": {},
     "output_type": "execute_result"
    }
   ],
   "source": [
    "environment2 =create_environment()\n",
    "environment2\n"
   ]
  },
  {
   "cell_type": "code",
   "execution_count": null,
   "metadata": {},
   "outputs": [],
   "source": [
    "def get_neighbor_coords(x, y, x_max, y_max):\n",
    "    #define matrx to specify neighbor coordinates\n",
    "    \n",
    "    coords = [\n",
    "        [-1,-1],\n",
    "        [0,-1],\n",
    "        [1,-1],\n",
    "        [-1,0],\n",
    "        [1,0],\n",
    "        [-1,1],\n",
    "        [0,1],\n",
    "        [1,1],\n",
    "    ]\n",
    "\n",
    "    #get coordinates for every neightbor, starting with (x,y)\n",
    "    neighbor_coords=[]\n",
    "    for coord in coords:\n",
    "        neighbor = [x+coord[0], y+coord[1]]\n",
    "        #eliminate invalid neighbors\n",
    "        if neighbor[0] >=0 and neighbor[0] < x_max and  neighbor[1] >=0 and neighbor[1] < y_max:\n",
    "            neighbor_coords.append(neighbor)\n",
    "    return neighbor_coords"
   ]
  },
  {
   "cell_type": "code",
   "execution_count": 30,
   "metadata": {},
   "outputs": [
    {
     "ename": "TypeError",
     "evalue": "list indices must be integers or slices, not tuple",
     "output_type": "error",
     "traceback": [
      "\u001b[1;31m---------------------------------------------------------------------------\u001b[0m",
      "\u001b[1;31mTypeError\u001b[0m                                 Traceback (most recent call last)",
      "\u001b[1;32me:\\Test_Git\\Python\\session1.ipynb Cell 9\u001b[0m line \u001b[0;36m3\n\u001b[0;32m      <a href='vscode-notebook-cell:/e%3A/Test_Git/Python/session1.ipynb#X12sZmlsZQ%3D%3D?line=0'>1</a>\u001b[0m x_max \u001b[39m=\u001b[39m\u001b[39m10\u001b[39m\n\u001b[0;32m      <a href='vscode-notebook-cell:/e%3A/Test_Git/Python/session1.ipynb#X12sZmlsZQ%3D%3D?line=1'>2</a>\u001b[0m y_max \u001b[39m=\u001b[39m\u001b[39m15\u001b[39m\n\u001b[1;32m----> <a href='vscode-notebook-cell:/e%3A/Test_Git/Python/session1.ipynb#X12sZmlsZQ%3D%3D?line=2'>3</a>\u001b[0m get_neighbor_coords(\u001b[39m5\u001b[39;49m, \u001b[39m5\u001b[39;49m, x_max, y_max)\n",
      "\u001b[1;32me:\\Test_Git\\Python\\session1.ipynb Cell 9\u001b[0m line \u001b[0;36m5\n\u001b[0;32m      <a href='vscode-notebook-cell:/e%3A/Test_Git/Python/session1.ipynb#X12sZmlsZQ%3D%3D?line=0'>1</a>\u001b[0m \u001b[39mdef\u001b[39;00m \u001b[39mget_neighbor_coords\u001b[39m(x,y,x_max,y_max):\n\u001b[0;32m      <a href='vscode-notebook-cell:/e%3A/Test_Git/Python/session1.ipynb#X12sZmlsZQ%3D%3D?line=1'>2</a>\u001b[0m     \u001b[39m#define matrx to specify neighbor coordinates\u001b[39;00m\n\u001b[0;32m      <a href='vscode-notebook-cell:/e%3A/Test_Git/Python/session1.ipynb#X12sZmlsZQ%3D%3D?line=3'>4</a>\u001b[0m     coords \u001b[39m=\u001b[39m [\n\u001b[1;32m----> <a href='vscode-notebook-cell:/e%3A/Test_Git/Python/session1.ipynb#X12sZmlsZQ%3D%3D?line=4'>5</a>\u001b[0m         [\u001b[39m-\u001b[39;49m\u001b[39m1\u001b[39;49m,\u001b[39m-\u001b[39;49m\u001b[39m1\u001b[39;49m]\n\u001b[0;32m      <a href='vscode-notebook-cell:/e%3A/Test_Git/Python/session1.ipynb#X12sZmlsZQ%3D%3D?line=5'>6</a>\u001b[0m         [\u001b[39m0\u001b[39;49m,\u001b[39m-\u001b[39;49m\u001b[39m1\u001b[39;49m]\n\u001b[0;32m      <a href='vscode-notebook-cell:/e%3A/Test_Git/Python/session1.ipynb#X12sZmlsZQ%3D%3D?line=6'>7</a>\u001b[0m         [\u001b[39m1\u001b[39m,\u001b[39m-\u001b[39m\u001b[39m1\u001b[39m]\n\u001b[0;32m      <a href='vscode-notebook-cell:/e%3A/Test_Git/Python/session1.ipynb#X12sZmlsZQ%3D%3D?line=7'>8</a>\u001b[0m         [\u001b[39m-\u001b[39m\u001b[39m1\u001b[39m,\u001b[39m0\u001b[39m]\n\u001b[0;32m      <a href='vscode-notebook-cell:/e%3A/Test_Git/Python/session1.ipynb#X12sZmlsZQ%3D%3D?line=8'>9</a>\u001b[0m         [\u001b[39m1\u001b[39m,\u001b[39m0\u001b[39m]\n\u001b[0;32m     <a href='vscode-notebook-cell:/e%3A/Test_Git/Python/session1.ipynb#X12sZmlsZQ%3D%3D?line=9'>10</a>\u001b[0m         [\u001b[39m-\u001b[39m\u001b[39m1\u001b[39m,\u001b[39m1\u001b[39m]\n\u001b[0;32m     <a href='vscode-notebook-cell:/e%3A/Test_Git/Python/session1.ipynb#X12sZmlsZQ%3D%3D?line=10'>11</a>\u001b[0m         [\u001b[39m0\u001b[39m,\u001b[39m1\u001b[39m]\n\u001b[0;32m     <a href='vscode-notebook-cell:/e%3A/Test_Git/Python/session1.ipynb#X12sZmlsZQ%3D%3D?line=11'>12</a>\u001b[0m         [\u001b[39m1\u001b[39m,\u001b[39m1\u001b[39m]\n\u001b[0;32m     <a href='vscode-notebook-cell:/e%3A/Test_Git/Python/session1.ipynb#X12sZmlsZQ%3D%3D?line=12'>13</a>\u001b[0m     ]\n\u001b[0;32m     <a href='vscode-notebook-cell:/e%3A/Test_Git/Python/session1.ipynb#X12sZmlsZQ%3D%3D?line=14'>15</a>\u001b[0m     \u001b[39m#get coordinates for every neightobor, starting with (x,y)\u001b[39;00m\n\u001b[0;32m     <a href='vscode-notebook-cell:/e%3A/Test_Git/Python/session1.ipynb#X12sZmlsZQ%3D%3D?line=15'>16</a>\u001b[0m     neighbor_coords\u001b[39m=\u001b[39m[]\n",
      "\u001b[1;31mTypeError\u001b[0m: list indices must be integers or slices, not tuple"
     ]
    }
   ],
   "source": [
    "x_max =10\n",
    "y_max =15\n",
    "get_neighbor_coords(5, 5, x_max, y_max)"
   ]
  }
 ],
 "metadata": {
  "kernelspec": {
   "display_name": "Python 3",
   "language": "python",
   "name": "python3"
  },
  "language_info": {
   "codemirror_mode": {
    "name": "ipython",
    "version": 3
   },
   "file_extension": ".py",
   "mimetype": "text/x-python",
   "name": "python",
   "nbconvert_exporter": "python",
   "pygments_lexer": "ipython3",
   "version": "3.12.0"
  }
 },
 "nbformat": 4,
 "nbformat_minor": 2
}
