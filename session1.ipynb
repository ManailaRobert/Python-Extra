{
 "cells": [
  {
   "cell_type": "markdown",
   "metadata": {},
   "source": [
    "Avem o populatie de agenti. fiecare agent are o preferinta\n",
    "asupra procentului de vecini care sa fie de acelasi tip,\n",
    "daca un agent este inconjurat de mai multi vecini de tipuri \n",
    "diferite daca poate \"tolera\", agentul se muta intr-o zona \n",
    "in care nu se intampla acest lucru\n",
    "\n",
    "pentru a evolua sistemul, la fiecare iteratie, alegem agenti la intamplare si stabilim daca acestia se muta sau nu\n",
    "\n",
    "\n",
    " 1. Definim un agent\n",
    " 2. Definim un saptiu(mediu) unde se gasesc agentii\n",
    " 3. Mecanism pentru a determina cati vecini are un agent\n",
    " 4. Mecanism prin care sa determinam daca preferintele unui agent sunt incalcate\n",
    " 5. Tipurile de agenti\n",
    " 6. Lista de agenti\n",
    " 7. Stabilim pentru fiecare agent ce preferinta are\n",
    " 8. Un mecanism prin care sa determinam unde se pot muta\n",
    " 9. Reguli pentru a defini preferintele?\n",
    " 10. Un mecanism pentru a alege la intamplare agentii in timpul fiecarei iteratii a.i sa nu alegem de mai multe ori acelasi agent\n",
    " 11. Mecanism pentru a rula simularea pentru mai multe iteratii\n",
    " 12. SA vizualizam simluarea (pas cu pas sau pentru fiecare iteratie)\n",
    "\n",
    "# ---Pasul 1 ---\n",
    " Ce date trebuie sa tinem minte pentru un agent?\n",
    " - id\n",
    " - preferinte\n",
    " - coordonate\n",
    " - tipul\n",
    "\n",
    " Cum reprezentam in memorie un agent?\n",
    " a. O lista cu toate informatiile\n",
    " b. Un obiect\n",
    " c. Dictionar (JSON)\n",
    "\n",
    "_________________\n",
    " ex Initializari\n",
    " a=10\n",
    " b=10.1\n",
    " c=\"Acesta este un string\"\n",
    " d=True \n",
    " e= None\n"
   ]
  },
  {
   "cell_type": "code",
   "execution_count": null,
   "metadata": {},
   "outputs": [],
   "source": [
    "#Create an agent as an empty list\n",
    "agent = [] \n",
    "\n",
    " #assign an id to our agent, 1\n",
    "agent.append(1)\n",
    "\n",
    "#assign a type\n",
    "agent.append(\"type1\")\n",
    "\n"
   ]
  }
 ],
 "metadata": {
  "language_info": {
   "name": "python"
  }
 },
 "nbformat": 4,
 "nbformat_minor": 2
}
